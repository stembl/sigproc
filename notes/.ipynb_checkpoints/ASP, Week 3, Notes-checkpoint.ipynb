{
 "cells": [
  {
   "cell_type": "markdown",
   "metadata": {
    "deletable": true,
    "editable": true
   },
   "source": [
    "# Fourier Properties\n",
    "Notes: Audio Signal Processing, Coursera Class, Week 3\n",
    "\n",
    "Date: 20170414\n"
   ]
  },
  {
   "cell_type": "markdown",
   "metadata": {
    "deletable": true,
    "editable": true
   },
   "source": [
    "## Linearity\n",
    "* A well behaved opration.\n",
    "\n",
    "$a x_1[n] + b x_2[n] \\Leftrightarrow a X_1[k] + b X_2[k]$\n",
    "\n",
    "$\\begin{align}\n",
    "DFT(& a x_1[n] + b x_2[n])\\\\\n",
    "= & \\sum\\limits_{n=0}^{N-1} {(a x_1[n] + b x_2[n])e^{-j 2 \\pi k n / N}}\\\\\n",
    "= & a \\sum\\limits_{n=0}^{N-1} {x_1[n]e^{-j 2 \\pi k n / N}} + b \\sum\\limits_{n=0}^{N-1} {x_2[n]e^{-j 2 \\pi k n / N}}\\\\\n",
    "= & a X_1[k] + b X_2[k]\n",
    "\\end{align}$\n",
    "\n"
   ]
  },
  {
   "cell_type": "markdown",
   "metadata": {
    "deletable": true,
    "editable": true
   },
   "source": [
    "## Shift\n",
    "\n",
    "* Displacing samples of a signal.\n",
    "* or... shifting the signal by a certain number of samples.\n",
    "\n",
    "$x[n-n_0] \\Leftrightarrow e^{-j 2 \\pi k n_0 / N} X[k]$"
   ]
  },
  {
   "cell_type": "markdown",
   "metadata": {
    "deletable": true,
    "editable": true
   },
   "source": [
    "## Symmetry\n",
    "\n",
    "$\\begin{align}\n",
    "x[n] \\, real &\\Leftrightarrow \\mathbb{R}{X[k]} \\, even \\quad &&and \\quad \\mathbb{I}{X[k]} \\, odd\\\\\n",
    "&\\Leftrightarrow |X[k]| \\,even \\quad &&and \\quad <X[k] \\, odd\\\\\n",
    "x[n] \\, real \\, and \\, even &\\Leftrightarrow \\mathbb{R}{X[k]} \\, even \\quad &&and \\quad \\mathbb{I}{X[k]} =0\\\\\n",
    "&\\Leftrightarrow |X[k]| \\, even \\quad &&and \\quad <X[k] =n\\pi\\\\\n",
    "\\end{align}$"
   ]
  },
  {
   "cell_type": "markdown",
   "metadata": {
    "deletable": true,
    "editable": true
   },
   "source": [
    "# Convolution\n",
    "\n",
    "$x_1[n] * x_2[n] \\Leftrightarrow X_1[k] \\times X_2[k]$"
   ]
  },
  {
   "cell_type": "markdown",
   "metadata": {
    "deletable": true,
    "editable": true
   },
   "source": [
    "## Energy Conservation and dB\n",
    "* Energy of a signal in the time or frequency domain can be calculated in the same way, the solution is the same.\n",
    "* A more intuitive signal may be visualized by using dB\n",
    "\n",
    "$\\sum\\limits_{n=-N/2}^{N/2-1}{|x[n]|^2} = \\frac{1}{N} \\sum\\limits_{k=-N/2}^{N/2-1} {|X[k]|^2}$\n",
    "\n",
    "Amplitude $=abs(X)=20 \\log_{10}(abs(X))$"
   ]
  },
  {
   "cell_type": "markdown",
   "metadata": {
    "deletable": true,
    "editable": true
   },
   "source": [
    "## Phase Unwrapping\n",
    "* A way of representing the phase that is easier to understand.\n",
    "* smooths out the phase by adding $2\\pi$ whenever there is a discontinuity"
   ]
  },
  {
   "cell_type": "markdown",
   "metadata": {
    "deletable": true,
    "editable": true
   },
   "source": [
    "## Zero Padding\n",
    "* Adding zeros to the end of the signal\n",
    "* smooths out the visualization\n",
    "* zero padding in the time domain corresponds to interpolation in the frequency domain"
   ]
  },
  {
   "cell_type": "markdown",
   "metadata": {
    "deletable": true,
    "editable": true
   },
   "source": [
    "## Fast Fourier Transform (FFT)\n",
    "* An efficient implementation of the DFT equation by taking advantage of symmetries.  \n",
    "* Restricts the signals to N being a power of 2.\n",
    "* DFT grows quadratically, $N^2$ with size while FFT compute time grows $N\\log N$"
   ]
  },
  {
   "cell_type": "markdown",
   "metadata": {
    "deletable": true,
    "editable": true
   },
   "source": [
    "## FFT and Zero-Phase Windowing\n",
    "* To use an FFT we want an input signal with a power of 2 length\n",
    "* To do this, use zero padding and then zero-phase windowing\n",
    "* zero-phase windowing takes the right side of the signal and moves it to the left side, inversely with the left, and adds the zeros in the middle."
   ]
  },
  {
   "cell_type": "markdown",
   "metadata": {
    "deletable": true,
    "editable": true
   },
   "source": [
    "## Analysis/Synthesis\n",
    "1. Start from a signal\n",
    "1. Compute the FFT, showing only half\n",
    "1. Computing IFFT should be the same as the original"
   ]
  },
  {
   "cell_type": "markdown",
   "metadata": {
    "collapsed": true
   },
   "source": [
    "# Demonstration Lectures\n",
    "## Periodic Signals\n",
    "* A sawtooth signal has a complex spectrum.  It has a fundamental frequency, but also contains many other frequencies.\n",
    "\n",
    "## Complex Sounds\n",
    "* Looking at a speech sample\n",
    "* The constanent at the begining of a word (attack) is aperiodic while the vowel is periodic.\n",
    "* The cello-double.wav is a polyphonic sound.  Hard to see periodicity because two sounds are playing at the same time.  Some periodic occilation occurs when the two sounds reinforce each other.\n",
    "* An orchestra sample would look random.  Some peaks are visible in the spectrum.\n",
    "\n",
    "## Spectrum\n",
    "* Sample size does not need to match FFT window size.\n",
    "* FFT size defines how smooth the results are.\n",
    "* First peak is the fundamental frequency and the rest are multiples of the fundamental."
   ]
  },
  {
   "cell_type": "markdown",
   "metadata": {},
   "source": []
  },
  {
   "cell_type": "markdown",
   "metadata": {},
   "source": []
  },
  {
   "cell_type": "markdown",
   "metadata": {
    "collapsed": true
   },
   "source": [
    "# Programming Lectures\n",
    "* note, triang example is not a power of 2, the FFT implements standard DFT when this is the case.\n",
    "* Triangle needs to be centered at 0 to return a phase of 0"
   ]
  },
  {
   "cell_type": "code",
   "execution_count": 1,
   "metadata": {
    "collapsed": true
   },
   "outputs": [],
   "source": [
    "import matplotlib.pyplot as plt\n",
    "import scipy as sp\n",
    "from scipy.signal import triang\n",
    "from scipy.fftpack import fft\n",
    "\n",
    "%matplotlib inline"
   ]
  },
  {
   "cell_type": "code",
   "execution_count": 2,
   "metadata": {
    "collapsed": false
   },
   "outputs": [
    {
     "name": "stdout",
     "output_type": "stream",
     "text": [
      "C:\\work\\sigproc\\asp\\workspace\n"
     ]
    }
   ],
   "source": [
    "cd C:\\work\\sigproc\\asp\\workspace"
   ]
  },
  {
   "cell_type": "code",
   "execution_count": 3,
   "metadata": {
    "collapsed": false
   },
   "outputs": [
    {
     "data": {
      "text/plain": [
       "(-3.141592653589793, 3.141592653589793)"
      ]
     },
     "execution_count": 3,
     "metadata": {},
     "output_type": "execute_result"
    },
    {
     "data": {
      "image/png": "[encoded data removed]",
      "text/plain": [
       "<matplotlib.figure.Figure at 0x82395f8>"
      ]
     },
     "metadata": {},
     "output_type": "display_data"
    }
   ],
   "source": [
    "x = triang(15)\n",
    "fftbuffer = sp.zeros(15)\n",
    "fftbuffer[:8] = x[7:]\n",
    "fftbuffer[8:] = x[:7]\n",
    "X = fft(fftbuffer)\n",
    "mX = abs(X)    # Magnitude\n",
    "pX = sp.angle(X)    # Phase\n",
    "\n",
    "plt.subplot(311)\n",
    "plt.plot(fftbuffer)\n",
    "plt.ylim([0, 1])\n",
    "plt.subplot(312)\n",
    "plt.plot(mX)\n",
    "plt.subplot(313)\n",
    "plt.plot(pX)\n",
    "plt.ylim([-sp.pi, sp.pi])\n"
   ]
  },
  {
   "cell_type": "code",
   "execution_count": 4,
   "metadata": {
    "collapsed": false
   },
   "outputs": [
    {
     "ename": "SyntaxError",
     "evalue": "Missing parentheses in call to 'print' (utilFunctions.py, line 12)",
     "output_type": "error",
     "traceback": [
      "\u001b[1;36m  File \u001b[1;32m\"../software/models\\utilFunctions.py\"\u001b[1;36m, line \u001b[1;32m12\u001b[0m\n\u001b[1;33m    print \"\\n\"\u001b[0m\n\u001b[1;37m             ^\u001b[0m\n\u001b[1;31mSyntaxError\u001b[0m\u001b[1;31m:\u001b[0m Missing parentheses in call to 'print'\n"
     ]
    }
   ],
   "source": [
    "import sys, os, math\n",
    "sys.path.append('../software/models/')\n",
    "#sys.path.append(os.path.join(os.path.dirname(os.realpath(__file__)), '../software/models/'))\n",
    "import utilFunctions as UF                 # Unable to run on python 3.0\n",
    "\n",
    "\n",
    "M = 501\n",
    "hM1 = int(math.floor((M+1)/2))\n",
    "hM2 = int(math.floor(M/2))\n",
    "\n",
    "(fs, x) = UF.wavread('../sounds/soprano-E4.wav')\n",
    "x1 = x[5000:5000+M] * sp.hamming(M)                   # Selects a selection of the imported file and windows\n",
    "                                                      # it using the hamming window\n",
    "\n",
    "N = 5111       # FFT, can be independent of M.  Select a power of 2 to use FFT algorithm, ie 1024.\n",
    "\n",
    "# Split the signal and add the zero padding in the middle. \n",
    "fftbuffer = sp.zeros(N)\n",
    "fftbuffer[:hM1] = x1[hM2:]\n",
    "fftbuffer[N-hM2:] = x1[:hM2]   \n",
    "\n",
    "X = fft(fftbuffer)\n",
    "mX = 20*sp.log10(abs(X))\n",
    "pX = sp.unwrap(sp.angle(X))\n",
    "\n",
    "plt.subplot(312)\n",
    "plt.plot(mX[0:512])  # Plot half the spectrum\n",
    "plt.subplot(313)\n",
    "plt.plot(pX)\n"
   ]
  },
  {
   "cell_type": "markdown",
   "metadata": {},
   "source": [
    "## dftModel\n",
    "\n",
    "* the dftSynthesis has to recompute the negative frequencies from the positive ones.\n",
    "* in models interface directory, check out the dftModel_function.py"
   ]
  },
  {
   "cell_type": "code",
   "execution_count": 5,
   "metadata": {
    "collapsed": false
   },
   "outputs": [
    {
     "ename": "NameError",
     "evalue": "name 'UF' is not defined",
     "output_type": "error",
     "traceback": [
      "\u001b[1;31m---------------------------------------------------------------------------\u001b[0m",
      "\u001b[1;31mNameError\u001b[0m                                 Traceback (most recent call last)",
      "\u001b[1;32m<ipython-input-5-508727e79f2e>\u001b[0m in \u001b[0;36m<module>\u001b[1;34m()\u001b[0m\n\u001b[0;32m      1\u001b[0m \u001b[1;32mfrom\u001b[0m \u001b[0mscipy\u001b[0m\u001b[1;33m.\u001b[0m\u001b[0msignal\u001b[0m \u001b[1;32mimport\u001b[0m \u001b[0mget_window\u001b[0m\u001b[1;33m\u001b[0m\u001b[0m\n\u001b[0;32m      2\u001b[0m \u001b[1;33m\u001b[0m\u001b[0m\n\u001b[1;32m----> 3\u001b[1;33m \u001b[1;33m(\u001b[0m\u001b[0mfs\u001b[0m\u001b[1;33m,\u001b[0m \u001b[0mx\u001b[0m\u001b[1;33m)\u001b[0m \u001b[1;33m=\u001b[0m \u001b[0mUF\u001b[0m\u001b[1;33m.\u001b[0m\u001b[0mwavread\u001b[0m\u001b[1;33m(\u001b[0m\u001b[1;34m'../sounds/soprano-E4.wav'\u001b[0m\u001b[1;33m)\u001b[0m\u001b[1;33m\u001b[0m\u001b[0m\n\u001b[0m\u001b[0;32m      4\u001b[0m \u001b[1;33m\u001b[0m\u001b[0m\n\u001b[0;32m      5\u001b[0m \u001b[0mM\u001b[0m \u001b[1;33m=\u001b[0m \u001b[1;36m511\u001b[0m\u001b[1;33m\u001b[0m\u001b[0m\n",
      "\u001b[1;31mNameError\u001b[0m: name 'UF' is not defined"
     ]
    }
   ],
   "source": [
    "from scipy.signal import get_window\n",
    "\n",
    "(fs, x) = UF.wavread('../sounds/soprano-E4.wav')\n",
    "\n",
    "M = 511\n",
    "w = get_window('hamming', M)\n",
    "\n",
    "time = 0.2\n",
    "x1 = x[int(time*fs):int(time*fs)+M]\n",
    "\n",
    "N = 1024\n",
    "mX, pX = DFT.dftAnal(x1, w, N)\n",
    "\n",
    "y = DFT.dftSynth(mX, pX, w.size)*sum(w)"
   ]
  },
  {
   "cell_type": "code",
   "execution_count": 6,
   "metadata": {
    "collapsed": false
   },
   "outputs": [
    {
     "name": "stdout",
     "output_type": "stream",
     "text": [
      "C:\\work\\sigproc\\asp\\workspace\\A3\n"
     ]
    }
   ],
   "source": [
    "cd A3"
   ]
  },
  {
   "cell_type": "code",
   "execution_count": 7,
   "metadata": {
    "collapsed": false
   },
   "outputs": [
    {
     "data": {
      "text/plain": [
       "1000"
      ]
     },
     "execution_count": 7,
     "metadata": {},
     "output_type": "execute_result"
    },
    {
     "data": {
      "image/png": "[encoded data removed]",
      "text/plain": [
       "<matplotlib.figure.Figure at 0x9ba5b70>"
      ]
     },
     "metadata": {},
     "output_type": "display_data"
    }
   ],
   "source": [
    "from math import gcd\n",
    "\n",
    "f1 = 300\n",
    "f2 = 800\n",
    "\n",
    "A = 1\n",
    "phi = 0\n",
    "fs = 10000\n",
    "t = sp.arange(0,.1, 1.0/fs)\n",
    "x = A * sp.sin(2*sp.pi*f1*t+phi) + 0 * sp.sin(2*sp.pi*f2*t+phi) \n",
    "\n",
    "plt.plot(x)\n",
    "len(x)"
   ]
  },
  {
   "cell_type": "code",
   "execution_count": 9,
   "metadata": {
    "collapsed": false
   },
   "outputs": [
    {
     "name": "stderr",
     "output_type": "stream",
     "text": [
      "C:\\work\\sigproc\\asp\\workspace\\A3\\A3Part1.py:67: VisibleDeprecationWarning: using a non-integer number instead of an integer will result in an error in the future\n",
      "  X = fft(x[:M])\n",
      "C:\\work\\sigproc\\asp\\workspace\\A3\\A3Part1.py:69: VisibleDeprecationWarning: using a non-integer number instead of an integer will result in an error in the future\n",
      "  mX = 20*np.log10(abs(X[:M/2+1]))\n"
     ]
    },
    {
     "data": {
      "text/plain": [
       "array([-250.54326665, -253.56489641, -257.41028323, -270.24452596,\n",
       "       -267.5257546 , -261.71003325, -264.79766139, -267.18705339,\n",
       "       -269.77928212, -262.54833882, -271.66980813, -265.2415005 ,\n",
       "       -259.7359821 , -259.77925599, -266.99958283, -262.23417768,\n",
       "       -266.84268491, -259.76167107, -284.93073779, -262.90430196,\n",
       "       -261.27184756, -263.39290796, -256.75537091, -260.42756234,\n",
       "       -272.76499395, -261.93216947, -262.89463662, -264.29522755,\n",
       "       -267.71804872, -259.66884215,   53.97940009, -254.59838774,\n",
       "       -259.62811669, -279.84104354, -268.73136095, -263.48997246,\n",
       "       -263.58198433, -259.92507236, -258.25838558, -263.90738763,\n",
       "       -268.34051783, -260.40480848, -264.46455297, -271.04594599,\n",
       "       -260.85083655, -256.1232809 , -274.94194618, -265.49297885,\n",
       "       -266.9823691 , -266.34976037, -273.68784884, -262.59725754,\n",
       "       -269.09181224, -272.12206986, -271.00649441, -277.38046159,\n",
       "       -259.76832227, -264.12943106, -261.30579566, -266.78382913,\n",
       "       -258.69662937, -263.109653  , -262.47619037, -265.99187043,\n",
       "       -268.32210844, -266.88331504, -259.47696638, -262.00563263,\n",
       "       -268.62202329, -268.49455207, -275.79140115, -270.45120308,\n",
       "       -281.76549991, -261.7995999 , -262.77514066, -267.67504585,\n",
       "       -268.41408001, -264.6450579 , -266.80218961, -257.37287823,\n",
       "       -258.50462011, -256.93096862, -265.1167047 , -262.31495151,\n",
       "       -263.89794551, -263.72494975, -260.71829916, -280.96561137,\n",
       "       -266.97207828, -262.30528484, -260.64869922, -265.65247265,\n",
       "       -267.18409363, -260.00363596, -261.54375227, -262.12540599,\n",
       "       -254.99125868, -255.2305321 , -265.29490622, -250.36128513,\n",
       "       -245.08249888, -243.37105379, -244.52547603, -247.27394113,\n",
       "       -257.73489682, -260.19586257, -260.36528276, -264.17925026,\n",
       "       -258.44312702, -255.0337307 , -261.86236575, -267.86098759,\n",
       "       -275.54755159, -269.13152951, -269.312659  , -265.29268562,\n",
       "       -261.4029299 , -258.22654081, -260.27196551, -258.85009971,\n",
       "       -260.96597654, -265.28694066, -266.15323641, -272.71412161,\n",
       "       -269.19820588, -274.58533807, -276.75984945, -265.75506514,\n",
       "       -278.44209278, -274.79284257, -265.29653301, -286.0670873 ,\n",
       "       -267.87447685, -270.16774149, -263.90781119, -263.12745357,\n",
       "       -273.1660351 , -269.98631284, -260.82116925, -264.05246402,\n",
       "       -265.82078654, -259.6838309 , -263.24528818, -262.30896162,\n",
       "       -261.39405753, -251.87253892, -251.90698313, -257.99381311,\n",
       "       -256.15267236, -263.01349804, -280.08636072, -265.28657238,\n",
       "       -262.58663552, -259.65705391, -274.33078089, -258.52348037,\n",
       "       -253.70519332, -252.78579362, -272.94328831, -251.57488843,\n",
       "       -244.91499453, -243.36846644, -244.57566103, -247.59684091,\n",
       "       -258.56149285, -255.67742494, -254.85536127, -262.41277163,\n",
       "       -258.68601692, -253.38400348, -258.11137865, -262.37011109,\n",
       "       -254.95277222, -262.55811144, -251.30927371, -243.93436697,\n",
       "       -242.35974055, -243.00583882, -249.46319649, -266.6657121 ,\n",
       "       -256.86690624, -255.66055403, -260.34792142, -254.73263082,\n",
       "       -259.38899208, -260.99371231, -260.88003639, -270.71342434,\n",
       "       -265.27814256, -270.27424609, -258.57380353, -259.99652315,\n",
       "       -262.24465976, -260.11813982, -259.61869932, -261.18565166,\n",
       "       -260.25891675, -263.21267966, -265.4444115 , -275.07663027,\n",
       "       -264.94449638, -262.17774615, -258.61716153, -263.99968399,\n",
       "       -268.98711287, -246.40343824, -248.36983005, -256.04426453,\n",
       "       -253.26582431, -262.85998585, -263.79328614, -258.55499245,\n",
       "       -268.62006486, -267.62318624, -266.08044582, -270.03204282,\n",
       "       -257.84532777, -267.3876267 , -278.57740277, -265.53341639,\n",
       "       -269.63799146, -264.58880798, -264.33029084, -265.95342368,\n",
       "       -262.4172978 , -266.99948076, -257.09262067, -267.56363   ,\n",
       "       -256.52094133, -262.71493024, -266.04304576, -246.44661347,\n",
       "       -251.75975342, -247.15117731, -251.8375597 , -245.16894856,\n",
       "       -243.03968039, -243.07312843, -252.21420017, -254.58200531,\n",
       "       -250.4955367 , -255.51571555, -264.46011388, -253.16345962,\n",
       "       -262.28065864, -262.00681144, -257.25579408, -268.47091291,\n",
       "       -263.37837445, -262.14767869, -257.63495568, -257.15620355,\n",
       "       -267.4789829 , -263.598534  , -258.869902  , -261.99293251,\n",
       "       -259.1250248 , -266.99397749, -263.83833309, -263.61391037,\n",
       "       -273.70667357, -267.89134481, -262.77123435, -276.68171364,\n",
       "       -259.24109703, -255.38228502, -260.86898304, -265.54248685,\n",
       "       -257.60699881, -278.52806113, -263.44643608, -265.05531063,\n",
       "       -264.00313577, -264.7631678 , -268.66694147, -277.02040378,\n",
       "       -270.00593653, -263.21318255, -267.24693384, -262.91041714,\n",
       "       -270.17863904, -273.93361452, -269.86604724, -274.87938066,\n",
       "       -258.49506594, -269.27908536, -258.96808691, -259.29401293,\n",
       "       -253.6230383 , -269.01531429, -257.71299373, -245.90456575,\n",
       "       -250.22981779, -248.43642566, -246.79891495, -260.17171255,\n",
       "       -270.59496837, -258.66811052, -267.85152584, -258.80798973,\n",
       "       -254.34157343, -260.58140843, -273.38828045, -257.60596536,\n",
       "       -259.61801854, -269.8944184 , -256.68408197, -261.61832346,\n",
       "       -259.76130286, -273.1677878 , -262.3535807 , -266.13915751,\n",
       "       -266.32554153, -260.44582391, -257.07365974, -262.71579032,\n",
       "       -268.17254543, -267.49271084, -266.14058847, -266.02031058,\n",
       "       -263.18480892, -257.04870986, -262.90107996, -259.41631488,\n",
       "       -261.81730315, -260.09360831, -279.27808392, -259.00158803,\n",
       "       -260.72976866, -274.03571216, -263.10992826, -268.94958317,\n",
       "       -263.83604281, -271.65328566, -268.12832271, -273.73178685,\n",
       "       -261.712783  , -276.87928516, -286.44625073, -271.84477612,\n",
       "       -268.76716657, -267.69259791, -264.97090497, -277.45305791,\n",
       "       -261.57327603, -274.65447581, -264.75094201, -269.02360751,\n",
       "       -279.11176364, -274.60583049, -266.36305309, -255.22711893,\n",
       "       -253.81085753, -255.35611895, -265.55535233, -264.33415185,\n",
       "       -264.08791833, -260.60325496, -257.95940212, -263.63758536,\n",
       "       -264.44792573, -261.37996089, -257.05500612, -254.65662896,\n",
       "       -255.52940359, -255.91913386, -258.3767457 , -262.08473797,\n",
       "       -261.63704714, -272.55553553, -260.82685473, -258.86346653,\n",
       "       -262.78856731, -257.04446726, -263.63259853, -259.21703802,\n",
       "       -265.96387962, -258.35486005, -256.83421766, -266.13356598,\n",
       "       -259.78756221, -244.97272133, -253.72477717, -245.58328523,\n",
       "       -249.45174309, -271.43238403, -257.65976594, -257.48527174,\n",
       "       -259.59418906, -265.92180599, -264.67137954, -261.05691762,\n",
       "       -267.45704219, -276.02029692, -258.91991865, -271.95929492,\n",
       "       -264.96851244, -257.48206782, -290.20117965, -268.3086342 ,\n",
       "       -261.74958057, -265.29192393, -268.75665509, -263.68581345,\n",
       "       -270.62949725, -266.56948045, -267.46292262, -265.06831544,\n",
       "       -256.7687178 , -260.34849173, -259.13413778, -251.45066422,\n",
       "       -248.80869261, -250.70203622, -256.16155371, -264.10774424,\n",
       "       -273.11176247, -280.7506166 , -260.10988582, -261.80483986,\n",
       "       -260.95259352, -272.00687051, -255.08829012, -252.66195986,\n",
       "       -253.04479727, -259.62057349, -270.04822065, -264.31711773,\n",
       "       -259.07722361, -270.26197305, -256.92242463, -253.53645316,\n",
       "       -265.31197671, -274.22777629, -256.21002981, -260.54667361,\n",
       "       -273.91695754, -255.31511032, -260.2738781 , -274.4605654 ,\n",
       "       -254.26599407, -245.01783278, -266.76368801, -248.12549282,\n",
       "       -251.83171734, -257.58348341, -254.38623346, -253.02507159,\n",
       "       -256.8670389 , -272.78889365, -257.14471269, -257.69962996,\n",
       "       -271.84955669, -262.65946849, -257.25239445, -266.40814205,\n",
       "       -272.06019147, -259.90369469, -262.0712869 , -264.04025846,\n",
       "       -260.91121927, -260.47875684, -261.22168607, -268.45449537,\n",
       "       -274.00592351, -278.85083734, -274.23979518, -279.68113237,\n",
       "       -263.81544425, -262.45989147, -288.67330498, -270.02010159,\n",
       "       -262.06938265, -268.10919414, -261.27846641, -269.67765722,\n",
       "       -270.68101247, -274.27799756, -271.88586969, -262.14746834,\n",
       "       -264.38287599, -262.06273367, -259.1458278 , -271.51784194,\n",
       "       -266.04485412, -265.74493655, -262.06923369, -258.81509942,\n",
       "       -262.42582053, -260.95165647, -263.71884557, -257.3564935 ,\n",
       "       -263.3588787 , -263.67279574, -252.33338256, -253.46411349,\n",
       "       -251.03780387, -261.86710337, -266.49286833, -257.34375127,\n",
       "       -275.90239749, -257.34375127, -266.49286833, -261.86710337,\n",
       "       -251.03780387, -253.46411349, -252.33338256, -263.67279574,\n",
       "       -263.3588787 , -257.3564935 , -263.71884557, -260.95165647,\n",
       "       -262.42582053, -258.81509942, -262.06923369, -265.74493655,\n",
       "       -266.04485412, -271.51784194, -259.1458278 , -262.06273367,\n",
       "       -264.38287599, -262.14746834, -271.88586969, -274.27799756,\n",
       "       -270.68101247, -269.67765722, -261.27846641, -268.10919414,\n",
       "       -262.06938265, -270.02010159, -288.67330498, -262.45989147,\n",
       "       -263.81544425, -279.68113237, -274.23979518, -278.85083734,\n",
       "       -274.00592351, -268.45449537, -261.22168607, -260.47875684,\n",
       "       -260.91121927, -264.04025846, -262.0712869 , -259.90369469,\n",
       "       -272.06019147, -266.40814205, -257.25239445, -262.65946849,\n",
       "       -271.84955669, -257.69962996, -257.14471269, -272.78889365,\n",
       "       -256.8670389 , -253.02507159, -254.38623346, -257.58348341,\n",
       "       -251.83171734, -248.12549282, -266.76368801, -245.01783278,\n",
       "       -254.26599407, -274.4605654 , -260.2738781 , -255.31511032,\n",
       "       -273.91695754, -260.54667361, -256.21002981, -274.22777629,\n",
       "       -265.31197671, -253.53645316, -256.92242463, -270.26197305,\n",
       "       -259.07722361, -264.31711773, -270.04822065, -259.62057349,\n",
       "       -253.04479727, -252.66195986, -255.08829012, -272.00687051,\n",
       "       -260.95259352, -261.80483986, -260.10988582, -280.7506166 ,\n",
       "       -273.11176247, -264.10774424, -256.16155371, -250.70203622,\n",
       "       -248.80869261, -251.45066422, -259.13413778, -260.34849173,\n",
       "       -256.7687178 , -265.06831544, -267.46292262, -266.56948045,\n",
       "       -270.62949725, -263.68581345, -268.75665509, -265.29192393,\n",
       "       -261.74958057, -268.3086342 , -290.20117965, -257.48206782,\n",
       "       -264.96851244, -271.95929492, -258.91991865, -276.02029692,\n",
       "       -267.45704219, -261.05691762, -264.67137954, -265.92180599,\n",
       "       -259.59418906, -257.48527174, -257.65976594, -271.43238403,\n",
       "       -249.45174309, -245.58328523, -253.72477717, -244.97272133,\n",
       "       -259.78756221, -266.13356598, -256.83421766, -258.35486005,\n",
       "       -265.96387962, -259.21703802, -263.63259853, -257.04446726,\n",
       "       -262.78856731, -258.86346653, -260.82685473, -272.55553553,\n",
       "       -261.63704714, -262.08473797, -258.3767457 , -255.91913386,\n",
       "       -255.52940359, -254.65662896, -257.05500612, -261.37996089,\n",
       "       -264.44792573, -263.63758536, -257.95940212, -260.60325496,\n",
       "       -264.08791833, -264.33415185, -265.55535233, -255.35611895,\n",
       "       -253.81085753, -255.22711893, -266.36305309, -274.60583049,\n",
       "       -279.11176364, -269.02360751, -264.75094201, -274.65447581,\n",
       "       -261.57327603, -277.45305791, -264.97090497, -267.69259791,\n",
       "       -268.76716657, -271.84477612, -286.44625073, -276.87928516,\n",
       "       -261.712783  , -273.73178685, -268.12832271, -271.65328566,\n",
       "       -263.83604281, -268.94958317, -263.10992826, -274.03571216,\n",
       "       -260.72976866, -259.00158803, -279.27808392, -260.09360831,\n",
       "       -261.81730315, -259.41631488, -262.90107996, -257.04870986,\n",
       "       -263.18480892, -266.02031058, -266.14058847, -267.49271084,\n",
       "       -268.17254543, -262.71579032, -257.07365974, -260.44582391,\n",
       "       -266.32554153, -266.13915751, -262.3535807 , -273.1677878 ,\n",
       "       -259.76130286, -261.61832346, -256.68408197, -269.8944184 ,\n",
       "       -259.61801854, -257.60596536, -273.38828045, -260.58140843,\n",
       "       -254.34157343, -258.80798973, -267.85152584, -258.66811052,\n",
       "       -270.59496837, -260.17171255, -246.79891495, -248.43642566,\n",
       "       -250.22981779, -245.90456575, -257.71299373, -269.01531429,\n",
       "       -253.6230383 , -259.29401293, -258.96808691, -269.27908536,\n",
       "       -258.49506594, -274.87938066, -269.86604724, -273.93361452,\n",
       "       -270.17863904, -262.91041714, -267.24693384, -263.21318255,\n",
       "       -270.00593653, -277.02040378, -268.66694147, -264.7631678 ,\n",
       "       -264.00313577, -265.05531063, -263.44643608, -278.52806113,\n",
       "       -257.60699881, -265.54248685, -260.86898304, -255.38228502,\n",
       "       -259.24109703, -276.68171364, -262.77123435, -267.89134481,\n",
       "       -273.70667357, -263.61391037, -263.83833309, -266.99397749,\n",
       "       -259.1250248 , -261.99293251, -258.869902  , -263.598534  ,\n",
       "       -267.4789829 , -257.15620355, -257.63495568, -262.14767869,\n",
       "       -263.37837445, -268.47091291, -257.25579408, -262.00681144,\n",
       "       -262.28065864, -253.16345962, -264.46011388, -255.51571555,\n",
       "       -250.4955367 , -254.58200531, -252.21420017, -243.07312843,\n",
       "       -243.03968039, -245.16894856, -251.8375597 , -247.15117731,\n",
       "       -251.75975342, -246.44661347, -266.04304576, -262.71493024,\n",
       "       -256.52094133, -267.56363   , -257.09262067, -266.99948076,\n",
       "       -262.4172978 , -265.95342368, -264.33029084, -264.58880798,\n",
       "       -269.63799146, -265.53341639, -278.57740277, -267.3876267 ,\n",
       "       -257.84532777, -270.03204282, -266.08044582, -267.62318624,\n",
       "       -268.62006486, -258.55499245, -263.79328614, -262.85998585,\n",
       "       -253.26582431, -256.04426453, -248.36983005, -246.40343824,\n",
       "       -268.98711287, -263.99968399, -258.61716153, -262.17774615,\n",
       "       -264.94449638, -275.07663027, -265.4444115 , -263.21267966,\n",
       "       -260.25891675, -261.18565166, -259.61869932, -260.11813982,\n",
       "       -262.24465976, -259.99652315, -258.57380353, -270.27424609,\n",
       "       -265.27814256, -270.71342434, -260.88003639, -260.99371231,\n",
       "       -259.38899208, -254.73263082, -260.34792142, -255.66055403,\n",
       "       -256.86690624, -266.6657121 , -249.46319649, -243.00583882,\n",
       "       -242.35974055, -243.93436697, -251.30927371, -262.55811144,\n",
       "       -254.95277222, -262.37011109, -258.11137865, -253.38400348,\n",
       "       -258.68601692, -262.41277163, -254.85536127, -255.67742494,\n",
       "       -258.56149285, -247.59684091, -244.57566103, -243.36846644,\n",
       "       -244.91499453, -251.57488843, -272.94328831, -252.78579362,\n",
       "       -253.70519332, -258.52348037, -274.33078089, -259.65705391,\n",
       "       -262.58663552, -265.28657238, -280.08636072, -263.01349804,\n",
       "       -256.15267236, -257.99381311, -251.90698313, -251.87253892,\n",
       "       -261.39405753, -262.30896162, -263.24528818, -259.6838309 ,\n",
       "       -265.82078654, -264.05246402, -260.82116925, -269.98631284,\n",
       "       -273.1660351 , -263.12745357, -263.90781119, -270.16774149,\n",
       "       -267.87447685, -286.0670873 , -265.29653301, -274.79284257,\n",
       "       -278.44209278, -265.75506514, -276.75984945, -274.58533807,\n",
       "       -269.19820588, -272.71412161, -266.15323641, -265.28694066,\n",
       "       -260.96597654, -258.85009971, -260.27196551, -258.22654081,\n",
       "       -261.4029299 , -265.29268562, -269.312659  , -269.13152951,\n",
       "       -275.54755159, -267.86098759, -261.86236575, -255.0337307 ,\n",
       "       -258.44312702, -264.17925026, -260.36528276, -260.19586257,\n",
       "       -257.73489682, -247.27394113, -244.52547603, -243.37105379,\n",
       "       -245.08249888, -250.36128513, -265.29490622, -255.2305321 ,\n",
       "       -254.99125868, -262.12540599, -261.54375227, -260.00363596,\n",
       "       -267.18409363, -265.65247265, -260.64869922, -262.30528484,\n",
       "       -266.97207828, -280.96561137, -260.71829916, -263.72494975,\n",
       "       -263.89794551, -262.31495151, -265.1167047 , -256.93096862,\n",
       "       -258.50462011, -257.37287823, -266.80218961, -264.6450579 ,\n",
       "       -268.41408001, -267.67504585, -262.77514066, -261.7995999 ,\n",
       "       -281.76549991, -270.45120308, -275.79140115, -268.49455207,\n",
       "       -268.62202329, -262.00563263, -259.47696638, -266.88331504,\n",
       "       -268.32210844, -265.99187043, -262.47619037, -263.109653  ,\n",
       "       -258.69662937, -266.78382913, -261.30579566, -264.12943106,\n",
       "       -259.76832227, -277.38046159, -271.00649441, -272.12206986,\n",
       "       -269.09181224, -262.59725754, -273.68784884, -266.34976037,\n",
       "       -266.9823691 , -265.49297885, -274.94194618, -256.1232809 ,\n",
       "       -260.85083655, -271.04594599, -264.46455297, -260.40480848,\n",
       "       -268.34051783, -263.90738763, -258.25838558, -259.92507236,\n",
       "       -263.58198433, -263.48997246, -268.73136095, -279.84104354,\n",
       "       -259.62811669, -254.59838774,   53.97940009, -259.66884215,\n",
       "       -267.71804872, -264.29522755, -262.89463662, -261.93216947,\n",
       "       -272.76499395, -260.42756234, -256.75537091, -263.39290796,\n",
       "       -261.27184756, -262.90430196, -284.93073779, -259.76167107,\n",
       "       -266.84268491, -262.23417768, -266.99958283, -259.77925599,\n",
       "       -259.7359821 , -265.2415005 , -271.66980813, -262.54833882,\n",
       "       -269.77928212, -267.18705339, -264.79766139, -261.71003325,\n",
       "       -267.5257546 , -270.24452596, -257.41028323, -253.56489641])"
      ]
     },
     "execution_count": 9,
     "metadata": {},
     "output_type": "execute_result"
    }
   ],
   "source": [
    "import A3Part1\n",
    "#from A3Part1 import minimizeEnergySpreadDFT\n",
    "\n",
    "x = A3Part1.minimizeEnergySpreadDFT(x, fs, f1, f2)"
   ]
  },
  {
   "cell_type": "code",
   "execution_count": null,
   "metadata": {
    "collapsed": true
   },
   "outputs": [],
   "source": []
  },
  {
   "cell_type": "code",
   "execution_count": null,
   "metadata": {
    "collapsed": true
   },
   "outputs": [],
   "source": []
  }
 ],
 "metadata": {
  "anaconda-cloud": {},
  "kernelspec": {
   "display_name": "Python [Root]",
   "language": "python",
   "name": "Python [Root]"
  },
  "language_info": {
   "codemirror_mode": {
    "name": "ipython",
    "version": 3
   },
   "file_extension": ".py",
   "mimetype": "text/x-python",
   "name": "python",
   "nbconvert_exporter": "python",
   "pygments_lexer": "ipython3",
   "version": "3.5.2"
  }
 },
 "nbformat": 4,
 "nbformat_minor": 0
}

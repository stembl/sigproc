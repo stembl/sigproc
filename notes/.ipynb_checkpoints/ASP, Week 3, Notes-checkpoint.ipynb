{
 "cells": [
  {
   "cell_type": "markdown",
   "metadata": {},
   "source": [
    "# Fourier Properties\n",
    "Notes: Audio Signal Processing, Coursera Class, Week 3\n",
    "\n",
    "Date: 20170414\n"
   ]
  },
  {
   "cell_type": "markdown",
   "metadata": {},
   "source": [
    "## Linearity\n",
    "* A well behaved opration.\n",
    "\n",
    "$a x_1[n] + b x_2[n] \\Leftrightarrow a X_1[k] + b X_2[k]$\n",
    "\n",
    "$\\begin{align}\n",
    "DFT(& a x_1[n] + b x_2[n])\\\\\n",
    "= & \\sum\\limits_{n=0}^{N-1} {(a x_1[n] + b x_2[n])e^{-j 2 \\pi k n / N}}\\\\\n",
    "= & a \\sum\\limits_{n=0}^{N-1} {x_1[n]e^{-j 2 \\pi k n / N}} + b \\sum\\limits_{n=0}^{N-1} {x_2[n]e^{-j 2 \\pi k n / N}}\\\\\n",
    "= & a X_1[k] + b X_2[k]\n",
    "\\end{align}$\n",
    "\n"
   ]
  },
  {
   "cell_type": "markdown",
   "metadata": {},
   "source": [
    "## Shift\n",
    "\n",
    "* Displacing samples of a signal.\n",
    "* or... shifting the signal by a certain number of samples.\n",
    "\n",
    "$x[n-n_0] \\Leftrightarrow e^{-j 2 \\pi k n_0 / N} X[k]$"
   ]
  },
  {
   "cell_type": "markdown",
   "metadata": {},
   "source": [
    "## Symetry"
   ]
  },
  {
   "cell_type": "markdown",
   "metadata": {},
   "source": [
    "# Convolution"
   ]
  },
  {
   "cell_type": "code",
   "execution_count": null,
   "metadata": {
    "collapsed": true
   },
   "outputs": [],
   "source": []
  }
 ],
 "metadata": {
  "kernelspec": {
   "display_name": "Python [Root]",
   "language": "python",
   "name": "Python [Root]"
  },
  "language_info": {
   "codemirror_mode": {
    "name": "ipython",
    "version": 3
   },
   "file_extension": ".py",
   "mimetype": "text/x-python",
   "name": "python",
   "nbconvert_exporter": "python",
   "pygments_lexer": "ipython3",
   "version": "3.5.2"
  }
 },
 "nbformat": 4,
 "nbformat_minor": 0
}

{
 "cells": [
  {
   "cell_type": "markdown",
   "metadata": {
    "deletable": true,
    "editable": true
   },
   "source": [
    "# Fourier Properties\n",
    "Notes: Audio Signal Processing, Coursera Class, Week 3\n",
    "\n",
    "Date: 20170414\n"
   ]
  },
  {
   "cell_type": "markdown",
   "metadata": {
    "deletable": true,
    "editable": true
   },
   "source": [
    "## Linearity\n",
    "* A well behaved opration.\n",
    "\n",
    "$a x_1[n] + b x_2[n] \\Leftrightarrow a X_1[k] + b X_2[k]$\n",
    "\n",
    "$\\begin{align}\n",
    "DFT(& a x_1[n] + b x_2[n])\\\\\n",
    "= & \\sum\\limits_{n=0}^{N-1} {(a x_1[n] + b x_2[n])e^{-j 2 \\pi k n / N}}\\\\\n",
    "= & a \\sum\\limits_{n=0}^{N-1} {x_1[n]e^{-j 2 \\pi k n / N}} + b \\sum\\limits_{n=0}^{N-1} {x_2[n]e^{-j 2 \\pi k n / N}}\\\\\n",
    "= & a X_1[k] + b X_2[k]\n",
    "\\end{align}$\n",
    "\n"
   ]
  },
  {
   "cell_type": "markdown",
   "metadata": {
    "deletable": true,
    "editable": true
   },
   "source": [
    "## Shift\n",
    "\n",
    "* Displacing samples of a signal.\n",
    "* or... shifting the signal by a certain number of samples.\n",
    "\n",
    "$x[n-n_0] \\Leftrightarrow e^{-j 2 \\pi k n_0 / N} X[k]$"
   ]
  },
  {
   "cell_type": "markdown",
   "metadata": {
    "deletable": true,
    "editable": true
   },
   "source": [
    "## Symmetry\n",
    "\n",
    "$\\begin{align}\n",
    "x[n] \\, real &\\Leftrightarrow \\mathbb{R}{X[k]} \\, even \\quad &&and \\quad \\mathbb{I}{X[k]} \\, odd\\\\\n",
    "&\\Leftrightarrow |X[k]| \\,even \\quad &&and \\quad <X[k] \\, odd\\\\\n",
    "x[n] \\, real \\, and \\, even &\\Leftrightarrow \\mathbb{R}{X[k]} \\, even \\quad &&and \\quad \\mathbb{I}{X[k]} =0\\\\\n",
    "&\\Leftrightarrow |X[k]| \\, even \\quad &&and \\quad <X[k] =n\\pi\\\\\n",
    "\\end{align}$"
   ]
  },
  {
   "cell_type": "markdown",
   "metadata": {
    "deletable": true,
    "editable": true
   },
   "source": [
    "# Convolution\n",
    "\n",
    "$x_1[n] * x_2[n] \\Leftrightarrow X_1[k] \\times X_2[k]$"
   ]
  },
  {
   "cell_type": "markdown",
   "metadata": {
    "deletable": true,
    "editable": true
   },
   "source": [
    "## Energy Conservation and dB\n",
    "* Energy of a signal in the time or frequency domain can be calculated in the same way, the solution is the same.\n",
    "* A more intuitive signal may be visualized by using dB\n",
    "\n",
    "$\\sum\\limits_{n=-N/2}^{N/2-1}{|x[n]|^2} = \\frac{1}{N} \\sum\\limits_{k=-N/2}^{N/2-1} {|X[k]|^2}$\n",
    "\n",
    "Amplitude $=abs(X)=20 \\log_{10}(abs(X))$"
   ]
  },
  {
   "cell_type": "markdown",
   "metadata": {
    "deletable": true,
    "editable": true
   },
   "source": [
    "## Phase Unwrapping\n",
    "* A way of representing the phase that is easier to understand.\n",
    "* smooths out the phase by adding $2\\pi$ whenever there is a discontinuity"
   ]
  },
  {
   "cell_type": "markdown",
   "metadata": {
    "deletable": true,
    "editable": true
   },
   "source": [
    "## Zero Padding\n",
    "* Adding zeros to the end of the signal\n",
    "* smooths out the visualization\n",
    "* zero padding in the time domain corresponds to interpolation in the frequency domain"
   ]
  },
  {
   "cell_type": "markdown",
   "metadata": {
    "deletable": true,
    "editable": true
   },
   "source": [
    "## Fast Fourier Transform (FFT)\n",
    "* An efficient implementation of the DFT equation by taking advantage of symmetries.  \n",
    "* Restricts the signals to N being a power of 2.\n",
    "* DFT grows quadratically, $N^2$ with size while FFT compute time grows $N\\log N$"
   ]
  },
  {
   "cell_type": "markdown",
   "metadata": {
    "deletable": true,
    "editable": true
   },
   "source": [
    "## FFT and Zero-Phase Windowing\n",
    "* To use an FFT we want an input signal with a power of 2 length\n",
    "* To do this, use zero padding and then zero-phase windowing\n",
    "* zero-phase windowing takes the right side of the signal and moves it to the left side, inversely with the left, and adds the zeros in the middle."
   ]
  },
  {
   "cell_type": "markdown",
   "metadata": {
    "deletable": true,
    "editable": true
   },
   "source": [
    "## Analysis/Synthesis\n",
    "1. Start from a signal\n",
    "1. Compute the FFT, showing only half\n",
    "1. Computing IFFT should be the same as the original"
   ]
  },
  {
   "cell_type": "code",
   "execution_count": 2,
   "metadata": {
    "collapsed": false,
    "deletable": true,
    "editable": true
   },
   "outputs": [
    {
     "name": "stdout",
     "output_type": "stream",
     "text": [
      "C:\\work\\sigproc\\asp\\workspace\\A3\n"
     ]
    }
   ],
   "source": [
    "cd C:\\work\\sigproc\\asp\\workspace\\A3"
   ]
  },
  {
   "cell_type": "code",
   "execution_count": null,
   "metadata": {
    "collapsed": true
   },
   "outputs": [],
   "source": []
  }
 ],
 "metadata": {
  "kernelspec": {
   "display_name": "Python 2",
   "language": "python",
   "name": "python2"
  },
  "language_info": {
   "codemirror_mode": {
    "name": "ipython",
    "version": 2
   },
   "file_extension": ".py",
   "mimetype": "text/x-python",
   "name": "python",
   "nbconvert_exporter": "python",
   "pygments_lexer": "ipython2",
   "version": "2.7.13"
  }
 },
 "nbformat": 4,
 "nbformat_minor": 0
}

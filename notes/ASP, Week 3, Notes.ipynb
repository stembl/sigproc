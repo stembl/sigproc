{
 "cells": [
  {
   "cell_type": "markdown",
   "metadata": {
    "deletable": true,
    "editable": true
   },
   "source": [
    "# Fourier Properties\n",
    "Notes: Audio Signal Processing, Coursera Class, Week 3\n",
    "\n",
    "Date: 20170414\n"
   ]
  },
  {
   "cell_type": "markdown",
   "metadata": {
    "deletable": true,
    "editable": true
   },
   "source": [
    "## Linearity\n",
    "* A well behaved opration.\n",
    "\n",
    "$a x_1[n] + b x_2[n] \\Leftrightarrow a X_1[k] + b X_2[k]$\n",
    "\n",
    "$\\begin{align}\n",
    "DFT(& a x_1[n] + b x_2[n])\\\\\n",
    "= & \\sum\\limits_{n=0}^{N-1} {(a x_1[n] + b x_2[n])e^{-j 2 \\pi k n / N}}\\\\\n",
    "= & a \\sum\\limits_{n=0}^{N-1} {x_1[n]e^{-j 2 \\pi k n / N}} + b \\sum\\limits_{n=0}^{N-1} {x_2[n]e^{-j 2 \\pi k n / N}}\\\\\n",
    "= & a X_1[k] + b X_2[k]\n",
    "\\end{align}$\n",
    "\n"
   ]
  },
  {
   "cell_type": "markdown",
   "metadata": {
    "deletable": true,
    "editable": true
   },
   "source": [
    "## Shift\n",
    "\n",
    "* Displacing samples of a signal.\n",
    "* or... shifting the signal by a certain number of samples.\n",
    "\n",
    "$x[n-n_0] \\Leftrightarrow e^{-j 2 \\pi k n_0 / N} X[k]$"
   ]
  },
  {
   "cell_type": "markdown",
   "metadata": {
    "deletable": true,
    "editable": true
   },
   "source": [
    "## Symmetry\n",
    "\n",
    "$\\begin{align}\n",
    "x[n] \\, real &\\Leftrightarrow \\mathbb{R}{X[k]} \\, even \\quad &&and \\quad \\mathbb{I}{X[k]} \\, odd\\\\\n",
    "&\\Leftrightarrow |X[k]| \\,even \\quad &&and \\quad <X[k] \\, odd\\\\\n",
    "x[n] \\, real \\, and \\, even &\\Leftrightarrow \\mathbb{R}{X[k]} \\, even \\quad &&and \\quad \\mathbb{I}{X[k]} =0\\\\\n",
    "&\\Leftrightarrow |X[k]| \\, even \\quad &&and \\quad <X[k] =n\\pi\\\\\n",
    "\\end{align}$"
   ]
  },
  {
   "cell_type": "markdown",
   "metadata": {
    "deletable": true,
    "editable": true
   },
   "source": [
    "# Convolution\n",
    "\n",
    "$x_1[n] * x_2[n] \\Leftrightarrow X_1[k] \\times X_2[k]$"
   ]
  },
  {
   "cell_type": "markdown",
   "metadata": {
    "deletable": true,
    "editable": true
   },
   "source": [
    "## Energy Conservation and dB\n",
    "* Energy of a signal in the time or frequency domain can be calculated in the same way, the solution is the same.\n",
    "* A more intuitive signal may be visualized by using dB\n",
    "\n",
    "$\\sum\\limits_{n=-N/2}^{N/2-1}{|x[n]|^2} = \\frac{1}{N} \\sum\\limits_{k=-N/2}^{N/2-1} {|X[k]|^2}$\n",
    "\n",
    "Amplitude $=abs(X)=20 \\log_{10}(abs(X))$"
   ]
  },
  {
   "cell_type": "markdown",
   "metadata": {
    "deletable": true,
    "editable": true
   },
   "source": [
    "## Phase Unwrapping\n",
    "* A way of representing the phase that is easier to understand.\n",
    "* smooths out the phase by adding $2\\pi$ whenever there is a discontinuity"
   ]
  },
  {
   "cell_type": "markdown",
   "metadata": {
    "deletable": true,
    "editable": true
   },
   "source": [
    "## Zero Padding\n",
    "* Adding zeros to the end of the signal\n",
    "* smooths out the visualization\n",
    "* zero padding in the time domain corresponds to interpolation in the frequency domain"
   ]
  },
  {
   "cell_type": "markdown",
   "metadata": {
    "deletable": true,
    "editable": true
   },
   "source": [
    "## Fast Fourier Transform (FFT)\n",
    "* An efficient implementation of the DFT equation by taking advantage of symmetries.  \n",
    "* Restricts the signals to N being a power of 2.\n",
    "* DFT grows quadratically, $N^2$ with size while FFT compute time grows $N\\log N$"
   ]
  },
  {
   "cell_type": "markdown",
   "metadata": {
    "deletable": true,
    "editable": true
   },
   "source": [
    "## FFT and Zero-Phase Windowing\n",
    "* To use an FFT we want an input signal with a power of 2 length\n",
    "* To do this, use zero padding and then zero-phase windowing\n",
    "* zero-phase windowing takes the right side of the signal and moves it to the left side, inversely with the left, and adds the zeros in the middle."
   ]
  },
  {
   "cell_type": "markdown",
   "metadata": {
    "deletable": true,
    "editable": true
   },
   "source": [
    "## Analysis/Synthesis\n",
    "1. Start from a signal\n",
    "1. Compute the FFT, showing only half\n",
    "1. Computing IFFT should be the same as the original"
   ]
  },
  {
   "cell_type": "markdown",
   "metadata": {
    "collapsed": true
   },
   "source": [
    "# Demonstration Lectures\n",
    "## Periodic Signals\n",
    "* A sawtooth signal has a complex spectrum.  It has a fundamental frequency, but also contains many other frequencies.\n",
    "\n",
    "## Complex Sounds\n",
    "* Looking at a speech sample\n",
    "* The constanent at the begining of a word (attack) is aperiodic while the vowel is periodic.\n",
    "* The cello-double.wav is a polyphonic sound.  Hard to see periodicity because two sounds are playing at the same time.  Some periodic occilation occurs when the two sounds reinforce each other.\n",
    "* An orchestra sample would look random.  Some peaks are visible in the spectrum.\n",
    "\n",
    "## Spectrum\n",
    "* Sample size does not need to match FFT window size.\n",
    "* FFT size defines how smooth the results are.\n",
    "* First peak is the fundamental frequency and the rest are multiples of the fundamental."
   ]
  },
  {
   "cell_type": "markdown",
   "metadata": {},
   "source": []
  },
  {
   "cell_type": "markdown",
   "metadata": {},
   "source": []
  },
  {
   "cell_type": "markdown",
   "metadata": {
    "collapsed": true
   },
   "source": [
    "# Programming Lectures\n",
    "* note, triang example is not a power of 2, the FFT implements standard DFT when this is the case.\n",
    "* Triangle needs to be centered at 0 to return a phase of 0"
   ]
  },
  {
   "cell_type": "code",
   "execution_count": 1,
   "metadata": {
    "collapsed": true
   },
   "outputs": [],
   "source": [
    "import matplotlib.pyplot as plt\n",
    "import scipy as sp\n",
    "from scipy.signal import triang\n",
    "from scipy.fftpack import fft\n",
    "\n",
    "%matplotlib inline"
   ]
  },
  {
   "cell_type": "code",
   "execution_count": 2,
   "metadata": {
    "collapsed": false
   },
   "outputs": [
    {
     "name": "stdout",
     "output_type": "stream",
     "text": [
      "C:\\work\\sigproc\\asp\\workspace\n"
     ]
    }
   ],
   "source": [
    "cd C:\\work\\sigproc\\asp\\workspace"
   ]
  },
  {
   "cell_type": "code",
   "execution_count": 3,
   "metadata": {
    "collapsed": false
   },
   "outputs": [
    {
     "data": {
      "text/plain": [
       "(-3.141592653589793, 3.141592653589793)"
      ]
     },
     "execution_count": 3,
     "metadata": {},
     "output_type": "execute_result"
    },
    {
     "data": {
      "image/png": "[encoded data removed]",
      "text/plain": [
       "<matplotlib.figure.Figure at 0x823a630>"
      ]
     },
     "metadata": {},
     "output_type": "display_data"
    }
   ],
   "source": [
    "x = triang(15)\n",
    "fftbuffer = sp.zeros(15)\n",
    "fftbuffer[:8] = x[7:]\n",
    "fftbuffer[8:] = x[:7]\n",
    "X = fft(fftbuffer)\n",
    "mX = abs(X)    # Magnitude\n",
    "pX = sp.angle(X)    # Phase\n",
    "\n",
    "plt.subplot(311)\n",
    "plt.plot(fftbuffer)\n",
    "plt.ylim([0, 1])\n",
    "plt.subplot(312)\n",
    "plt.plot(mX)\n",
    "plt.subplot(313)\n",
    "plt.plot(pX)\n",
    "plt.ylim([-sp.pi, sp.pi])\n"
   ]
  },
  {
   "cell_type": "code",
   "execution_count": 4,
   "metadata": {
    "collapsed": false
   },
   "outputs": [
    {
     "data": {
      "text/plain": [
       "\"import sys, os, math\\nsys.path.append('../software/models/')\\n#sys.path.append(os.path.join(os.path.dirname(os.realpath(__file__)), '../software/models/'))\\nimport utilFunctions as UF                 # Unable to run on python 3.0\\n\\n\\nM = 501\\nhM1 = int(math.floor((M+1)/2))\\nhM2 = int(math.floor(M/2))\\n\\n(fs, x) = UF.wavread('../sounds/soprano-E4.wav')\\nx1 = x[5000:5000+M] * sp.hamming(M)                   # Selects a selection of the imported file and windows\\n                                                      # it using the hamming window\\n\\nN = 5111       # FFT, can be independent of M.  Select a power of 2 to use FFT algorithm, ie 1024.\\n\\n# Split the signal and add the zero padding in the middle. \\nfftbuffer = sp.zeros(N)\\nfftbuffer[:hM1] = x1[hM2:]\\nfftbuffer[N-hM2:] = x1[:hM2]   \\n\\nX = fft(fftbuffer)\\nmX = 20*sp.log10(abs(X))\\npX = sp.unwrap(sp.angle(X))\\n\\nplt.subplot(312)\\nplt.plot(mX[0:512])  # Plot half the spectrum\\nplt.subplot(313)\\nplt.plot(pX)\\n\""
      ]
     },
     "execution_count": 4,
     "metadata": {},
     "output_type": "execute_result"
    }
   ],
   "source": [
    "'''import sys, os, math\n",
    "sys.path.append('../software/models/')\n",
    "#sys.path.append(os.path.join(os.path.dirname(os.realpath(__file__)), '../software/models/'))\n",
    "import utilFunctions as UF                 # Unable to run on python 3.0\n",
    "\n",
    "\n",
    "M = 501\n",
    "hM1 = int(math.floor((M+1)/2))\n",
    "hM2 = int(math.floor(M/2))\n",
    "\n",
    "(fs, x) = UF.wavread('../sounds/soprano-E4.wav')\n",
    "x1 = x[5000:5000+M] * sp.hamming(M)                   # Selects a selection of the imported file and windows\n",
    "                                                      # it using the hamming window\n",
    "\n",
    "N = 5111       # FFT, can be independent of M.  Select a power of 2 to use FFT algorithm, ie 1024.\n",
    "\n",
    "# Split the signal and add the zero padding in the middle. \n",
    "fftbuffer = sp.zeros(N)\n",
    "fftbuffer[:hM1] = x1[hM2:]\n",
    "fftbuffer[N-hM2:] = x1[:hM2]   \n",
    "\n",
    "X = fft(fftbuffer)\n",
    "mX = 20*sp.log10(abs(X))\n",
    "pX = sp.unwrap(sp.angle(X))\n",
    "\n",
    "plt.subplot(312)\n",
    "plt.plot(mX[0:512])  # Plot half the spectrum\n",
    "plt.subplot(313)\n",
    "plt.plot(pX)\n",
    "'''"
   ]
  },
  {
   "cell_type": "markdown",
   "metadata": {},
   "source": [
    "## dftModel\n",
    "\n",
    "* the dftSynthesis has to recompute the negative frequencies from the positive ones.\n",
    "* in models interface directory, check out the dftModel_function.py"
   ]
  },
  {
   "cell_type": "code",
   "execution_count": 5,
   "metadata": {
    "collapsed": false
   },
   "outputs": [
    {
     "data": {
      "text/plain": [
       "\"import sys, os, math\\nfrom scipy.signal import get_window\\n\\n(fs, x) = UF.wavread('../sounds/soprano-E4.wav')\\n\\nM = 511\\nw = get_window('hamming', M)\\n\\ntime = 0.2\\nx1 = x[int(time*fs):int(time*fs)+M]\\n\\nN = 1024\\nmX, pX = DFT.dftAnal(x1, w, N)\\n\\ny = DFT.dftSynth(mX, pX, w.size)*sum(w)\""
      ]
     },
     "execution_count": 5,
     "metadata": {},
     "output_type": "execute_result"
    }
   ],
   "source": [
    "'''import sys, os, math\n",
    "from scipy.signal import get_window\n",
    "\n",
    "(fs, x) = UF.wavread('../sounds/soprano-E4.wav')\n",
    "\n",
    "M = 511\n",
    "w = get_window('hamming', M)\n",
    "\n",
    "time = 0.2\n",
    "x1 = x[int(time*fs):int(time*fs)+M]\n",
    "\n",
    "N = 1024\n",
    "mX, pX = DFT.dftAnal(x1, w, N)\n",
    "\n",
    "y = DFT.dftSynth(mX, pX, w.size)*sum(w)'''"
   ]
  },
  {
   "cell_type": "code",
   "execution_count": 6,
   "metadata": {
    "collapsed": false
   },
   "outputs": [
    {
     "name": "stdout",
     "output_type": "stream",
     "text": [
      "C:\\work\\sigproc\\asp\\workspace\\A3\n"
     ]
    }
   ],
   "source": [
    "cd A3"
   ]
  },
  {
   "cell_type": "code",
   "execution_count": 7,
   "metadata": {
    "collapsed": false
   },
   "outputs": [
    {
     "data": {
      "text/plain": [
       "4800"
      ]
     },
     "execution_count": 7,
     "metadata": {},
     "output_type": "execute_result"
    },
    {
     "data": {
      "image/png": "[encoded data removed]",
      "text/plain": [
       "<matplotlib.figure.Figure at 0x863f358>"
      ]
     },
     "metadata": {},
     "output_type": "display_data"
    }
   ],
   "source": [
    "from math import gcd\n",
    "\n",
    "f1 = 300\n",
    "f2 = 800\n",
    "\n",
    "A = 1\n",
    "phi = 0\n",
    "fs = 48000\n",
    "t = sp.arange(0,.1, 1.0/fs)\n",
    "x = A * sp.sin(2*sp.pi*f1*t+phi) + A * sp.sin(2*sp.pi*f2*t+phi) \n",
    "\n",
    "plt.plot(x)\n",
    "len(x)"
   ]
  },
  {
   "cell_type": "code",
   "execution_count": 8,
   "metadata": {
    "collapsed": false
   },
   "outputs": [
    {
     "name": "stdout",
     "output_type": "stream",
     "text": [
      "241\n",
      "[-277.69914976 -276.25735063 -267.82754873   47.60422483 -264.65585648\n",
      " -271.73493112 -275.00080426 -282.24319452   47.60422483 -261.15451871]\n"
     ]
    }
   ],
   "source": [
    "import A3Part1\n",
    "#from A3Part1 import minimizeEnergySpreadDFT\n",
    "\n",
    "mX = A3Part1.minimizeEnergySpreadDFT(x, fs, f1, f2)\n",
    "print(len(mX))\n",
    "print(mX[:10])"
   ]
  },
  {
   "cell_type": "code",
   "execution_count": 10,
   "metadata": {
    "collapsed": false
   },
   "outputs": [],
   "source": [
    "f = 250\n",
    "fs = 10000\n",
    "A = 1\n",
    "phi = 0\n",
    "t = sp.arange(0,f/fs/10, f/fs/10/210)\n",
    "x = A * sp.sin(2*sp.pi*f*t+phi)\n",
    "\n",
    "M=len(x)\n",
    "hM1 = int(sp.floor((M+1)/2))\n",
    "hM2 = int(sp.floor(M/2))\n",
    "\n",
    "spp = fs/f # samples per period\n",
    "ppM = M/spp # periods per sample length M\n",
    "N = int(sp.ceil(ppM)*spp)  # Whole number integrer of periods required, samples\n",
    "\n",
    "\n",
    "# Split the signal and add the zero padding in the middle. \n",
    "fftbuffer = sp.zeros(N)\n",
    "fftbuffer[:hM1] = x[hM1:]\n",
    "fftbuffer[N-hM2:] = x[:hM2]\n",
    "\n",
    "X = fft(fftbuffer)\n",
    "\n",
    "mX = 20*sp.log10(abs(X[:int(N/2+1)]))"
   ]
  },
  {
   "cell_type": "code",
   "execution_count": 11,
   "metadata": {
    "collapsed": false
   },
   "outputs": [
    {
     "data": {
      "text/plain": [
       "[<matplotlib.lines.Line2D at 0x9cab1d0>]"
      ]
     },
     "execution_count": 11,
     "metadata": {},
     "output_type": "execute_result"
    },
    {
     "data": {
      "image/png": "[encoded data removed]",
      "text/plain": [
       "<matplotlib.figure.Figure at 0x9c6f048>"
      ]
     },
     "metadata": {},
     "output_type": "display_data"
    }
   ],
   "source": [
    "plt.plot(mX[:10])"
   ]
  },
  {
   "cell_type": "code",
   "execution_count": 12,
   "metadata": {
    "collapsed": false
   },
   "outputs": [],
   "source": [
    "import A3Part2\n",
    "\n",
    "mX = A3Part2.optimalZeropad(x, fs, f)"
   ]
  },
  {
   "cell_type": "code",
   "execution_count": 13,
   "metadata": {
    "collapsed": false
   },
   "outputs": [
    {
     "data": {
      "text/plain": [
       "[<matplotlib.lines.Line2D at 0x9d13dd8>]"
      ]
     },
     "execution_count": 13,
     "metadata": {},
     "output_type": "execute_result"
    },
    {
     "data": {
      "image/png": "[encoded data removed]",
      "text/plain": [
       "<matplotlib.figure.Figure at 0x9cb6080>"
      ]
     },
     "metadata": {},
     "output_type": "display_data"
    }
   ],
   "source": []
  },
  {
   "cell_type": "code",
   "execution_count": null,
   "metadata": {
    "collapsed": false
   },
   "outputs": [],
   "source": []
  },
  {
   "cell_type": "code",
   "execution_count": null,
   "metadata": {
    "collapsed": true
   },
   "outputs": [],
   "source": []
  },
  {
   "cell_type": "code",
   "execution_count": null,
   "metadata": {
    "collapsed": true
   },
   "outputs": [],
   "source": []
  }
 ],
 "metadata": {
  "anaconda-cloud": {},
  "kernelspec": {
   "display_name": "Python [Root]",
   "language": "python",
   "name": "Python [Root]"
  },
  "language_info": {
   "codemirror_mode": {
    "name": "ipython",
    "version": 3
   },
   "file_extension": ".py",
   "mimetype": "text/x-python",
   "name": "python",
   "nbconvert_exporter": "python",
   "pygments_lexer": "ipython3",
   "version": "3.5.2"
  }
 },
 "nbformat": 4,
 "nbformat_minor": 0
}

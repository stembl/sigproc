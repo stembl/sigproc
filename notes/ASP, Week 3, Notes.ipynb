{
 "cells": [
  {
   "cell_type": "markdown",
   "metadata": {
    "deletable": true,
    "editable": true
   },
   "source": [
    "# Fourier Properties\n",
    "Notes: Audio Signal Processing, Coursera Class, Week 3\n",
    "\n",
    "Date: 20170414\n"
   ]
  },
  {
   "cell_type": "markdown",
   "metadata": {
    "deletable": true,
    "editable": true
   },
   "source": [
    "## Linearity\n",
    "* A well behaved opration.\n",
    "\n",
    "$a x_1[n] + b x_2[n] \\Leftrightarrow a X_1[k] + b X_2[k]$\n",
    "\n",
    "$\\begin{align}\n",
    "DFT(& a x_1[n] + b x_2[n])\\\\\n",
    "= & \\sum\\limits_{n=0}^{N-1} {(a x_1[n] + b x_2[n])e^{-j 2 \\pi k n / N}}\\\\\n",
    "= & a \\sum\\limits_{n=0}^{N-1} {x_1[n]e^{-j 2 \\pi k n / N}} + b \\sum\\limits_{n=0}^{N-1} {x_2[n]e^{-j 2 \\pi k n / N}}\\\\\n",
    "= & a X_1[k] + b X_2[k]\n",
    "\\end{align}$\n",
    "\n"
   ]
  },
  {
   "cell_type": "markdown",
   "metadata": {
    "deletable": true,
    "editable": true
   },
   "source": [
    "## Shift\n",
    "\n",
    "* Displacing samples of a signal.\n",
    "* or... shifting the signal by a certain number of samples.\n",
    "\n",
    "$x[n-n_0] \\Leftrightarrow e^{-j 2 \\pi k n_0 / N} X[k]$"
   ]
  },
  {
   "cell_type": "markdown",
   "metadata": {
    "deletable": true,
    "editable": true
   },
   "source": [
    "## Symmetry\n",
    "\n",
    "$\\begin{align}\n",
    "x[n] \\, real &\\Leftrightarrow \\mathbb{R}{X[k]} \\, even \\quad &&and \\quad \\mathbb{I}{X[k]} \\, odd\\\\\n",
    "&\\Leftrightarrow |X[k]| \\,even \\quad &&and \\quad <X[k] \\, odd\\\\\n",
    "x[n] \\, real \\, and \\, even &\\Leftrightarrow \\mathbb{R}{X[k]} \\, even \\quad &&and \\quad \\mathbb{I}{X[k]} =0\\\\\n",
    "&\\Leftrightarrow |X[k]| \\, even \\quad &&and \\quad <X[k] =n\\pi\\\\\n",
    "\\end{align}$"
   ]
  },
  {
   "cell_type": "markdown",
   "metadata": {
    "deletable": true,
    "editable": true
   },
   "source": [
    "# Convolution\n",
    "\n",
    "$x_1[n] * x_2[n] \\Leftrightarrow X_1[k] \\times X_2[k]$"
   ]
  },
  {
   "cell_type": "markdown",
   "metadata": {
    "deletable": true,
    "editable": true
   },
   "source": [
    "## Energy Conservation and dB\n",
    "* Energy of a signal in the time or frequency domain can be calculated in the same way, the solution is the same.\n",
    "* A more intuitive signal may be visualized by using dB\n",
    "\n",
    "$\\sum\\limits_{n=-N/2}^{N/2-1}{|x[n]|^2} = \\frac{1}{N} \\sum\\limits_{k=-N/2}^{N/2-1} {|X[k]|^2}$\n",
    "\n",
    "Amplitude $=abs(X)=20 \\log_{10}(abs(X))$"
   ]
  },
  {
   "cell_type": "markdown",
   "metadata": {
    "deletable": true,
    "editable": true
   },
   "source": [
    "## Phase Unwrapping\n",
    "* A way of representing the phase that is easier to understand.\n",
    "* smooths out the phase by adding $2\\pi$ whenever there is a discontinuity"
   ]
  },
  {
   "cell_type": "markdown",
   "metadata": {
    "deletable": true,
    "editable": true
   },
   "source": [
    "## Zero Padding\n",
    "* Adding zeros to the end of the signal\n",
    "* smooths out the visualization\n",
    "* zero padding in the time domain corresponds to interpolation in the frequency domain"
   ]
  },
  {
   "cell_type": "markdown",
   "metadata": {
    "deletable": true,
    "editable": true
   },
   "source": [
    "## Fast Fourier Transform (FFT)\n",
    "* An efficient implementation of the DFT equation by taking advantage of symmetries.  \n",
    "* Restricts the signals to N being a power of 2.\n",
    "* DFT grows quadratically, $N^2$ with size while FFT compute time grows $N\\log N$"
   ]
  },
  {
   "cell_type": "markdown",
   "metadata": {
    "deletable": true,
    "editable": true
   },
   "source": [
    "## FFT and Zero-Phase Windowing\n",
    "* To use an FFT we want an input signal with a power of 2 length\n",
    "* To do this, use zero padding and then zero-phase windowing\n",
    "* zero-phase windowing takes the right side of the signal and moves it to the left side, inversely with the left, and adds the zeros in the middle."
   ]
  },
  {
   "cell_type": "markdown",
   "metadata": {
    "deletable": true,
    "editable": true
   },
   "source": [
    "## Analysis/Synthesis\n",
    "1. Start from a signal\n",
    "1. Compute the FFT, showing only half\n",
    "1. Computing IFFT should be the same as the original"
   ]
  },
  {
   "cell_type": "markdown",
   "metadata": {
    "collapsed": true
   },
   "source": [
    "# Demonstration Lectures\n",
    "## Periodic Signals\n",
    "* A sawtooth signal has a complex spectrum.  It has a fundamental frequency, but also contains many other frequencies.\n",
    "\n",
    "## Complex Sounds\n",
    "* Looking at a speech sample\n",
    "* The constanent at the begining of a word (attack) is aperiodic while the vowel is periodic.\n",
    "* The cello-double.wav is a polyphonic sound.  Hard to see periodicity because two sounds are playing at the same time.  Some periodic occilation occurs when the two sounds reinforce each other.\n",
    "* An orchestra sample would look random.  Some peaks are visible in the spectrum.\n",
    "\n",
    "## Spectrum\n",
    "* Sample size does not need to match FFT window size.\n",
    "* FFT size defines how smooth the results are.\n",
    "* First peak is the fundamental frequency and the rest are multiples of the fundamental."
   ]
  },
  {
   "cell_type": "markdown",
   "metadata": {},
   "source": []
  },
  {
   "cell_type": "markdown",
   "metadata": {},
   "source": []
  },
  {
   "cell_type": "code",
   "execution_count": null,
   "metadata": {
    "collapsed": true
   },
   "outputs": [],
   "source": []
  },
  {
   "cell_type": "code",
   "execution_count": null,
   "metadata": {
    "collapsed": true
   },
   "outputs": [],
   "source": []
  },
  {
   "cell_type": "code",
   "execution_count": null,
   "metadata": {
    "collapsed": true
   },
   "outputs": [],
   "source": []
  },
  {
   "cell_type": "code",
   "execution_count": null,
   "metadata": {
    "collapsed": true
   },
   "outputs": [],
   "source": [
    "cd C:\\work\\sigproc\\asp\\workspace\\A3"
   ]
  }
 ],
 "metadata": {
  "anaconda-cloud": {},
  "kernelspec": {
   "display_name": "Python [Root]",
   "language": "python",
   "name": "Python [Root]"
  },
  "language_info": {
   "codemirror_mode": {
    "name": "ipython",
    "version": 3
   },
   "file_extension": ".py",
   "mimetype": "text/x-python",
   "name": "python",
   "nbconvert_exporter": "python",
   "pygments_lexer": "ipython3",
   "version": "3.5.2"
  }
 },
 "nbformat": 4,
 "nbformat_minor": 0
}
